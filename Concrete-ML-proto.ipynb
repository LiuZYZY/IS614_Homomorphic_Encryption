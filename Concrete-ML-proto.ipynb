{
 "cells": [
  {
   "metadata": {},
   "cell_type": "markdown",
   "source": [
    "### Concrete ML configuration\n",
    "https://docs.zama.ai/concrete-ml/get-started/pip_installing#installation-using-docker\n",
    "Installation only available via [Docker](https://docs.docker.com/desktop/install/windows-install/) on Windows Machine.\n",
    "```docker\n",
    "docker pull zamafhe/concrete-ml:latest\n",
    "```\n"
   ],
   "id": "8de1377a4175e65d"
  },
  {
   "metadata": {
    "jupyter": {
     "is_executing": true
    }
   },
   "cell_type": "code",
   "source": [
    "from sklearn.datasets import make_classification\n",
    "from sklearn.model_selection import train_test_split\n",
    "\n",
    "from concrete.ml.sklearn import LogisticRegression\n",
    "\n",
    "# Create the data for classification:\n",
    "X, y = make_classification(\n",
    "    n_features=30,\n",
    "    n_redundant=0,\n",
    "    n_informative=2,\n",
    "    random_state=2,\n",
    "    n_clusters_per_class=1,\n",
    "    n_samples=250,\n",
    ")\n",
    "\n",
    "# Retrieve train and test sets:\n",
    "X_train, X_test, y_train, y_test = train_test_split(X, y, test_size=0.4, random_state=42)\n",
    "\n",
    "# Instantiate the model:\n",
    "model = LogisticRegression(n_bits=8)\n",
    "\n",
    "# Fit the model:\n",
    "model.fit(X_train, y_train)\n",
    "\n",
    "# Evaluate the model on the test set in clear:\n",
    "y_pred_clear = model.predict(X_test)\n",
    "\n",
    "# Compile the model:\n",
    "model.compile(X_train)\n",
    "\n",
    "# Perform the inference in FHE:\n",
    "y_pred_fhe = model.predict(X_test, fhe=\"execute\")\n",
    "\n",
    "# Assert that FHE predictions are the same as the clear predictions:\n",
    "print(\n",
    "    f\"{(y_pred_fhe == y_pred_clear).sum()} examples over {len(y_pred_fhe)} \"\n",
    "    \"have an FHE inference equal to the clear inference.\"\n",
    ")\n",
    "\n",
    "# Output:\n",
    "#  100 examples over 100 have an FHE inference equal to the clear inference"
   ],
   "id": "3346d879ec97ac22",
   "outputs": [],
   "execution_count": null
  },
  {
   "metadata": {
    "jupyter": {
     "is_executing": true
    }
   },
   "cell_type": "code",
   "source": "import numpy",
   "id": "2674ae020f940766",
   "outputs": [],
   "execution_count": null
  },
  {
   "metadata": {},
   "cell_type": "code",
   "outputs": [],
   "execution_count": null,
   "source": "",
   "id": "ede10ced5230ac98"
  }
 ],
 "metadata": {
  "kernelspec": {
   "display_name": "Python 3",
   "language": "python",
   "name": "python3"
  },
  "language_info": {
   "codemirror_mode": {
    "name": "ipython",
    "version": 2
   },
   "file_extension": ".py",
   "mimetype": "text/x-python",
   "name": "python",
   "nbconvert_exporter": "python",
   "pygments_lexer": "ipython2",
   "version": "2.7.6"
  }
 },
 "nbformat": 4,
 "nbformat_minor": 5
}
