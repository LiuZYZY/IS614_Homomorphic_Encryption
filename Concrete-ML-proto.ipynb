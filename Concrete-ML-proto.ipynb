{
 "cells": [
  {
   "metadata": {},
   "cell_type": "markdown",
   "source": [
    "### Concrete ML configuration with docker (didn't work)\n",
    "https://docs.zama.ai/concrete-ml/get-started/pip_installing#installation-using-docker\n",
    "Installation only available via [Docker](https://docs.docker.com/desktop/install/windows-install/) on Windows Machine.\n",
    "```docker\n",
    "docker pull zamafhe/concrete-ml:latest\n",
    "```\n"
   ],
   "id": "8de1377a4175e65d"
  },
  {
   "metadata": {},
   "cell_type": "markdown",
   "source": [
    "### Concrete ML configuration with Windows Subsystem for Linux (WSL)\n",
    "\n",
    "- install WLS: \n",
    "```powershell\n",
    "        wsl --install\n",
    "```\n",
    "- install conda and python 3.11, [installation guide](https://gist.github.com/kauffmanes/5e74916617f9993bc3479f401dfec7da)\n",
    "- install concrete ML\n",
    "```bash\n",
    "        pip install -U pip wheel setuptools\n",
    "        pip install concrete-ml\n",
    "```\n",
    "- configure interpreter under WSL (e.g. via [Pycharm](https://www.jetbrains.com/help/pycharm/using-wsl-as-a-remote-interpreter.html))\n",
    "\n",
    "![pycharm_wls](pycharm_wsl.png)"
   ],
   "id": "2d18572ca28fdcc3"
  },
  {
   "metadata": {},
   "cell_type": "markdown",
   "source": [
    "## Homomorphic Encryption in Machine Learning with Concrete-ML\n",
    "\n",
    "This Jupyter Notebook demonstrates how to use homomorphic encryption (HE) with machine learning models using the Concrete-ML library. We'll train three different models in plaintext and then apply homomorphic encryption to perform encrypted inference with the same models.\n",
    "\n",
    "Models Used:\n",
    "\n",
    "1. Logistic Regression\n",
    "2. Decision Tree Classifier\n",
    "3. Random Forest Classifier\n",
    "\n",
    "Important Note on XGBoost and Concrete-ML\n",
    "Concrete-ML supports specific models that can be compiled into their FHE counterparts, such as Logistic Regression, Decision Trees, Random Forests, and Neural Networks."
   ],
   "id": "3a9cc43dbdf5ece7"
  },
  {
   "metadata": {
    "ExecuteTime": {
     "end_time": "2024-10-06T12:47:49.101778Z",
     "start_time": "2024-10-06T12:47:47.446142Z"
    }
   },
   "cell_type": "code",
   "source": "!pip install seaborn",
   "id": "7911070231c12a52",
   "outputs": [
    {
     "name": "stdout",
     "output_type": "stream",
     "text": [
      "/bin/bash: warning: setlocale: LC_ALL: cannot change locale (en_US.UTF-8)\r\n",
      "Collecting seaborn\r\n",
      "  Downloading seaborn-0.13.2-py3-none-any.whl.metadata (5.4 kB)\r\n",
      "Requirement already satisfied: numpy!=1.24.0,>=1.20 in /home/liu/anaconda3/envs/py311_concrete/lib/python3.11/site-packages (from seaborn) (1.24.2)\r\n",
      "Requirement already satisfied: pandas>=1.2 in /home/liu/anaconda3/envs/py311_concrete/lib/python3.11/site-packages (from seaborn) (2.0.3)\r\n",
      "Requirement already satisfied: matplotlib!=3.6.1,>=3.4 in /home/liu/anaconda3/envs/py311_concrete/lib/python3.11/site-packages (from seaborn) (3.9.2)\r\n",
      "Requirement already satisfied: contourpy>=1.0.1 in /home/liu/anaconda3/envs/py311_concrete/lib/python3.11/site-packages (from matplotlib!=3.6.1,>=3.4->seaborn) (1.3.0)\r\n",
      "Requirement already satisfied: cycler>=0.10 in /home/liu/anaconda3/envs/py311_concrete/lib/python3.11/site-packages (from matplotlib!=3.6.1,>=3.4->seaborn) (0.12.1)\r\n",
      "Requirement already satisfied: fonttools>=4.22.0 in /home/liu/anaconda3/envs/py311_concrete/lib/python3.11/site-packages (from matplotlib!=3.6.1,>=3.4->seaborn) (4.54.1)\r\n",
      "Requirement already satisfied: kiwisolver>=1.3.1 in /home/liu/anaconda3/envs/py311_concrete/lib/python3.11/site-packages (from matplotlib!=3.6.1,>=3.4->seaborn) (1.4.7)\r\n",
      "Requirement already satisfied: packaging>=20.0 in /home/liu/anaconda3/envs/py311_concrete/lib/python3.11/site-packages (from matplotlib!=3.6.1,>=3.4->seaborn) (24.1)\r\n",
      "Requirement already satisfied: pillow>=8 in /home/liu/anaconda3/envs/py311_concrete/lib/python3.11/site-packages (from matplotlib!=3.6.1,>=3.4->seaborn) (10.4.0)\r\n",
      "Requirement already satisfied: pyparsing>=2.3.1 in /home/liu/anaconda3/envs/py311_concrete/lib/python3.11/site-packages (from matplotlib!=3.6.1,>=3.4->seaborn) (3.1.4)\r\n",
      "Requirement already satisfied: python-dateutil>=2.7 in /home/liu/anaconda3/envs/py311_concrete/lib/python3.11/site-packages (from matplotlib!=3.6.1,>=3.4->seaborn) (2.9.0.post0)\r\n",
      "Requirement already satisfied: pytz>=2020.1 in /home/liu/anaconda3/envs/py311_concrete/lib/python3.11/site-packages (from pandas>=1.2->seaborn) (2024.1)\r\n",
      "Requirement already satisfied: tzdata>=2022.1 in /home/liu/anaconda3/envs/py311_concrete/lib/python3.11/site-packages (from pandas>=1.2->seaborn) (2023.3)\r\n",
      "Requirement already satisfied: six>=1.5 in /home/liu/anaconda3/envs/py311_concrete/lib/python3.11/site-packages (from python-dateutil>=2.7->matplotlib!=3.6.1,>=3.4->seaborn) (1.16.0)\r\n",
      "Downloading seaborn-0.13.2-py3-none-any.whl (294 kB)\r\n",
      "Installing collected packages: seaborn\r\n",
      "Successfully installed seaborn-0.13.2\r\n"
     ]
    }
   ],
   "execution_count": 19
  },
  {
   "metadata": {
    "ExecuteTime": {
     "end_time": "2024-10-06T12:57:30.245238Z",
     "start_time": "2024-10-06T12:57:30.241005Z"
    }
   },
   "cell_type": "code",
   "source": [
    "# Import necessary libraries\n",
    "import numpy as np\n",
    "import pandas as pd\n",
    "import time\n",
    "import matplotlib.pyplot as plt\n",
    "import seaborn as sns\n",
    "\n",
    "# Import scikit-learn modules\n",
    "from sklearn.datasets import load_breast_cancer\n",
    "from sklearn.preprocessing import StandardScaler\n",
    "from sklearn.model_selection import train_test_split\n",
    "from sklearn.metrics import accuracy_score, classification_report\n",
    "\n",
    "# Import Concrete-ML libraries\n",
    "from concrete.ml.sklearn import LogisticRegression as HELogisticRegression\n",
    "from concrete.ml.sklearn import DecisionTreeClassifier as HEDecisionTreeClassifier\n",
    "from concrete.ml.sklearn import RandomForestClassifier as HERandomForestClassifier\n",
    "\n",
    "# Import scikit-learn models\n",
    "from sklearn.linear_model import LogisticRegression\n",
    "from sklearn.tree import DecisionTreeClassifier\n",
    "from sklearn.ensemble import RandomForestClassifier\n"
   ],
   "id": "6c9891d9d7c05347",
   "outputs": [],
   "execution_count": 40
  },
  {
   "metadata": {
    "ExecuteTime": {
     "end_time": "2024-10-06T12:57:35.622370Z",
     "start_time": "2024-10-06T12:57:35.601949Z"
    }
   },
   "cell_type": "code",
   "source": [
    "# Load the Breast Cancer Wisconsin dataset\n",
    "data = load_breast_cancer()\n",
    "X = data.data\n",
    "y = data.target\n",
    "feature_names = data.feature_names\n",
    "\n",
    "# Create a DataFrame for better visualization and manipulation\n",
    "df = pd.DataFrame(X, columns=feature_names)\n",
    "df['target'] = y\n",
    "\n",
    "# Check for missing values\n",
    "print(f\"Missing values in dataset: {df.isnull().sum().sum()}\")\n",
    "\n",
    "# Standardize the features\n",
    "scaler = StandardScaler()\n",
    "X_scaled = scaler.fit_transform(df.drop('target', axis=1))\n",
    "\n",
    "# Split the data into training and testing sets\n",
    "X_train, X_test, y_train, y_test = train_test_split(\n",
    "    X_scaled, df['target'], test_size=0.2, random_state=42\n",
    ")\n",
    "\n",
    "# Print dataset sizes\n",
    "print(f\"Training samples: {X_train.shape[0]}\")\n",
    "print(f\"Testing samples: {X_test.shape[0]}\")\n"
   ],
   "id": "fae217a6b67ad2b6",
   "outputs": [
    {
     "name": "stdout",
     "output_type": "stream",
     "text": [
      "Missing values in dataset: 0\n",
      "Training samples: 455\n",
      "Testing samples: 114\n"
     ]
    }
   ],
   "execution_count": 41
  },
  {
   "metadata": {
    "ExecuteTime": {
     "end_time": "2024-10-06T12:57:41.402432Z",
     "start_time": "2024-10-06T12:57:41.394386Z"
    }
   },
   "cell_type": "code",
   "source": [
    "def evaluate_model(model, model_name, X_test, y_test):\n",
    "    \"\"\"\n",
    "    Evaluates the model's performance on the test set.\n",
    "\n",
    "    Parameters:\n",
    "    - model: Trained machine learning model.\n",
    "    - model_name: Name of the model (string).\n",
    "    - X_test: Test features.\n",
    "    - y_test: Test labels.\n",
    "\n",
    "    Returns:\n",
    "    - accuracy: Accuracy score.\n",
    "    - inference_time: Time taken for inference.\n",
    "    \"\"\"\n",
    "    # Perform prediction\n",
    "    start_time = time.time()\n",
    "    y_pred = model.predict(X_test)\n",
    "    inference_time = time.time() - start_time\n",
    "    accuracy = accuracy_score(y_test, y_pred)\n",
    "    print(f\"\\n{model_name} Accuracy: {accuracy * 100:.2f}%\")\n",
    "    print(f\"Inference Time: {inference_time:.6f} seconds\")\n",
    "    print(f\"Classification Report:\\n{classification_report(y_test, y_pred)}\")\n",
    "    return accuracy, inference_time\n"
   ],
   "id": "ef5cab7a8ffe0b3f",
   "outputs": [],
   "execution_count": 42
  },
  {
   "metadata": {},
   "cell_type": "markdown",
   "source": "#### Logistic Regression",
   "id": "2ccc1d611fc37431"
  },
  {
   "metadata": {
    "ExecuteTime": {
     "end_time": "2024-10-06T13:22:31.058722Z",
     "start_time": "2024-10-06T13:22:31.045448Z"
    }
   },
   "cell_type": "code",
   "source": [
    "# Initialize the Logistic Regression model (plaintext)\n",
    "lr_plaintext = LogisticRegression(max_iter=1000)\n",
    "start_time = time.time()\n",
    "lr_plaintext.fit(X_train, y_train)\n",
    "lr_plaintext_training_time = time.time() - start_time\n",
    "\n",
    "# Evaluate the plaintext model\n",
    "lr_plaintext_accuracy, lr_plaintext_time = evaluate_model(\n",
    "    lr_plaintext, \"Logistic Regression (Plaintext)\", X_test, y_test\n",
    ")"
   ],
   "id": "50bc04d41cdd06a0",
   "outputs": [
    {
     "name": "stdout",
     "output_type": "stream",
     "text": [
      "\n",
      "Logistic Regression (Plaintext) Accuracy: 97.37%\n",
      "Inference Time: 0.000208 seconds\n",
      "Classification Report:\n",
      "              precision    recall  f1-score   support\n",
      "\n",
      "           0       0.98      0.95      0.96        43\n",
      "           1       0.97      0.99      0.98        71\n",
      "\n",
      "    accuracy                           0.97       114\n",
      "   macro avg       0.97      0.97      0.97       114\n",
      "weighted avg       0.97      0.97      0.97       114\n",
      "\n"
     ]
    }
   ],
   "execution_count": 58
  },
  {
   "metadata": {
    "ExecuteTime": {
     "end_time": "2024-10-06T13:22:31.913581Z",
     "start_time": "2024-10-06T13:22:31.675706Z"
    }
   },
   "cell_type": "code",
   "source": [
    "# Initialize the Logistic Regression model with Concrete-ML\n",
    "lr_he = HELogisticRegression(n_bits=7, max_iter=1000)\n",
    "start_time = time.time()\n",
    "lr_he.fit(X_train, y_train)\n",
    "lr_he_training_time = time.time() - start_time\n",
    "\n",
    "# Compile the model for FHE execution\n",
    "print(\"Compiling Logistic Regression model for FHE...\")\n",
    "lr_he.compile(X_train)\n",
    "\n",
    "# Perform encrypted inference on the test set\n",
    "start_time = time.time()\n",
    "y_pred_he = lr_he.predict(X_test)\n",
    "lr_he_inference_time = time.time() - start_time\n",
    "\n",
    "# Evaluate the HE model\n",
    "lr_he_accuracy = accuracy_score(y_test, y_pred_he)\n",
    "print(f\"\\nLogistic Regression (HE) Accuracy: {lr_he_accuracy * 100:.2f}%\")\n",
    "print(f\"Encrypted Inference Time: {lr_he_inference_time:.6f} seconds\")\n",
    "print(f\"Classification Report:\\n{classification_report(y_test, y_pred_he)}\")\n"
   ],
   "id": "b8ab0595e6f8aeb",
   "outputs": [
    {
     "name": "stdout",
     "output_type": "stream",
     "text": [
      "Compiling Logistic Regression model for FHE...\n",
      "\n",
      "Logistic Regression (HE) Accuracy: 97.37%\n",
      "Encrypted Inference Time: 0.000345 seconds\n",
      "Classification Report:\n",
      "              precision    recall  f1-score   support\n",
      "\n",
      "           0       0.98      0.95      0.96        43\n",
      "           1       0.97      0.99      0.98        71\n",
      "\n",
      "    accuracy                           0.97       114\n",
      "   macro avg       0.97      0.97      0.97       114\n",
      "weighted avg       0.97      0.97      0.97       114\n",
      "\n"
     ]
    }
   ],
   "execution_count": 59
  },
  {
   "metadata": {},
   "cell_type": "markdown",
   "source": "#### Decision Tree Classifier",
   "id": "4e85108a174f84ea"
  },
  {
   "metadata": {
    "ExecuteTime": {
     "end_time": "2024-10-06T13:22:26.519306Z",
     "start_time": "2024-10-06T13:22:26.501758Z"
    }
   },
   "cell_type": "code",
   "source": [
    "# Initialize the Decision Tree Classifier (plaintext)\n",
    "dt_plaintext = DecisionTreeClassifier(random_state=42, max_depth=5)\n",
    "start_time = time.time()\n",
    "dt_plaintext.fit(X_train, y_train)\n",
    "dt_plaintext_training_time = time.time() - start_time\n",
    "\n",
    "# Evaluate the plaintext model\n",
    "dt_plaintext_accuracy, dt_plaintext_time = evaluate_model(\n",
    "    dt_plaintext, \"Decision Tree Classifier (Plaintext)\", X_test, y_test\n",
    ")\n"
   ],
   "id": "377ddc084109e86c",
   "outputs": [
    {
     "name": "stdout",
     "output_type": "stream",
     "text": [
      "\n",
      "Decision Tree Classifier (Plaintext) Accuracy: 94.74%\n",
      "Inference Time: 0.000301 seconds\n",
      "Classification Report:\n",
      "              precision    recall  f1-score   support\n",
      "\n",
      "           0       0.93      0.93      0.93        43\n",
      "           1       0.96      0.96      0.96        71\n",
      "\n",
      "    accuracy                           0.95       114\n",
      "   macro avg       0.94      0.94      0.94       114\n",
      "weighted avg       0.95      0.95      0.95       114\n",
      "\n"
     ]
    }
   ],
   "execution_count": 56
  },
  {
   "metadata": {
    "ExecuteTime": {
     "end_time": "2024-10-06T13:28:27.190399Z",
     "start_time": "2024-10-06T13:28:25.784134Z"
    }
   },
   "cell_type": "code",
   "source": [
    "# Initialize the Decision Tree Classifier with Concrete-ML\n",
    "dt_he = HEDecisionTreeClassifier(n_bits=7, random_state=42, max_depth=5)\n",
    "start_time = time.time()\n",
    "dt_he.fit(X_train, y_train)\n",
    "dt_he_training_time = time.time() - start_time\n",
    "\n",
    "# Compile the model for FHE execution\n",
    "print(\"Compiling Decision Tree model for FHE...\")\n",
    "dt_he.compile(X_train)\n",
    "\n",
    "# Perform encrypted inference on the test set\n",
    "start_time = time.time()\n",
    "y_pred_he = dt_he.predict(X_test)\n",
    "dt_he_inference_time = time.time() - start_time\n",
    "\n",
    "# Evaluate the HE model\n",
    "dt_he_accuracy = accuracy_score(y_test, y_pred_he)\n",
    "print(f\"\\nDecision Tree Classifier (HE) Accuracy: {dt_he_accuracy * 100:.2f}%\")\n",
    "print(f\"Encrypted Inference Time: {dt_he_inference_time:.6f} seconds\")\n",
    "print(f\"Classification Report:\\n{classification_report(y_test, y_pred_he)}\")\n"
   ],
   "id": "2617544c956c3f54",
   "outputs": [
    {
     "name": "stdout",
     "output_type": "stream",
     "text": [
      "Compiling Decision Tree model for FHE...\n",
      "\n",
      "Decision Tree Classifier (HE) Accuracy: 96.49%\n",
      "Encrypted Inference Time: 0.001041 seconds\n",
      "Classification Report:\n",
      "              precision    recall  f1-score   support\n",
      "\n",
      "           0       0.95      0.95      0.95        43\n",
      "           1       0.97      0.97      0.97        71\n",
      "\n",
      "    accuracy                           0.96       114\n",
      "   macro avg       0.96      0.96      0.96       114\n",
      "weighted avg       0.96      0.96      0.96       114\n",
      "\n"
     ]
    }
   ],
   "execution_count": 67
  },
  {
   "metadata": {},
   "cell_type": "markdown",
   "source": "#### Random Forest Classifier",
   "id": "28658dcb2926f0ff"
  },
  {
   "metadata": {
    "ExecuteTime": {
     "end_time": "2024-10-06T13:22:48.853391Z",
     "start_time": "2024-10-06T13:22:48.826862Z"
    }
   },
   "cell_type": "code",
   "source": [
    "# Initialize the Random Forest Classifier (plaintext)\n",
    "rf_plaintext = RandomForestClassifier(n_estimators=10, random_state=42, max_depth=5)\n",
    "start_time = time.time()\n",
    "rf_plaintext.fit(X_train, y_train)\n",
    "rf_plaintext_training_time = time.time() - start_time\n",
    "\n",
    "# Evaluate the plaintext model\n",
    "rf_plaintext_accuracy, rf_plaintext_time = evaluate_model(\n",
    "    rf_plaintext, \"Random Forest Classifier (Plaintext)\", X_test, y_test\n",
    ")\n"
   ],
   "id": "ee9b60c04986dd34",
   "outputs": [
    {
     "name": "stdout",
     "output_type": "stream",
     "text": [
      "\n",
      "Random Forest Classifier (Plaintext) Accuracy: 95.61%\n",
      "Inference Time: 0.000587 seconds\n",
      "Classification Report:\n",
      "              precision    recall  f1-score   support\n",
      "\n",
      "           0       0.95      0.93      0.94        43\n",
      "           1       0.96      0.97      0.97        71\n",
      "\n",
      "    accuracy                           0.96       114\n",
      "   macro avg       0.96      0.95      0.95       114\n",
      "weighted avg       0.96      0.96      0.96       114\n",
      "\n"
     ]
    }
   ],
   "execution_count": 60
  },
  {
   "metadata": {
    "ExecuteTime": {
     "end_time": "2024-10-06T13:22:50.852835Z",
     "start_time": "2024-10-06T13:22:49.422Z"
    }
   },
   "cell_type": "code",
   "source": [
    "# Initialize the Random Forest Classifier with Concrete-ML\n",
    "rf_he = HERandomForestClassifier(n_bits=7, n_estimators=10, random_state=42, max_depth=5)\n",
    "start_time = time.time()\n",
    "rf_he.fit(X_train, y_train)\n",
    "rf_he_training_time = time.time() - start_time\n",
    "\n",
    "# Compile the model for FHE execution\n",
    "print(\"Compiling Random Forest model for FHE...\")\n",
    "rf_he.compile(X_train)\n",
    "\n",
    "# Perform encrypted inference on the test set\n",
    "start_time = time.time()\n",
    "y_pred_he = rf_he.predict(X_test)\n",
    "rf_he_inference_time = time.time() - start_time\n",
    "\n",
    "# Evaluate the HE model\n",
    "rf_he_accuracy = accuracy_score(y_test, y_pred_he)\n",
    "print(f\"\\nRandom Forest Classifier (HE) Accuracy: {rf_he_accuracy * 100:.2f}%\")\n",
    "print(f\"Encrypted Inference Time: {rf_he_inference_time:.6f} seconds\")\n",
    "print(f\"Classification Report:\\n{classification_report(y_test, y_pred_he)}\")\n"
   ],
   "id": "be8637dd877ee6fe",
   "outputs": [
    {
     "name": "stdout",
     "output_type": "stream",
     "text": [
      "Compiling Random Forest model for FHE...\n",
      "\n",
      "Random Forest Classifier (HE) Accuracy: 95.61%\n",
      "Encrypted Inference Time: 0.001839 seconds\n",
      "Classification Report:\n",
      "              precision    recall  f1-score   support\n",
      "\n",
      "           0       0.95      0.93      0.94        43\n",
      "           1       0.96      0.97      0.97        71\n",
      "\n",
      "    accuracy                           0.96       114\n",
      "   macro avg       0.96      0.95      0.95       114\n",
      "weighted avg       0.96      0.96      0.96       114\n",
      "\n"
     ]
    }
   ],
   "execution_count": 61
  },
  {
   "metadata": {},
   "cell_type": "markdown",
   "source": "#### Results",
   "id": "4d41c4f9549f5f47"
  },
  {
   "metadata": {
    "ExecuteTime": {
     "end_time": "2024-10-06T13:22:51.264940Z",
     "start_time": "2024-10-06T13:22:51.225213Z"
    }
   },
   "cell_type": "code",
   "source": [
    "# Create a DataFrame to store the results\n",
    "results_df = pd.DataFrame({\n",
    "    'Model': ['Logistic Regression', 'Decision Tree', 'Random Forest'],\n",
    "    'Plaintext Accuracy (%)': [\n",
    "        lr_plaintext_accuracy * 100,\n",
    "        dt_plaintext_accuracy * 100,\n",
    "        rf_plaintext_accuracy * 100\n",
    "    ],\n",
    "    'Encrypted Accuracy (%)': [\n",
    "        lr_he_accuracy * 100,\n",
    "        dt_he_accuracy * 100,\n",
    "        rf_he_accuracy * 100\n",
    "    ],\n",
    "    'Plaintext Inference Time (s)': [\n",
    "        lr_plaintext_time,\n",
    "        dt_plaintext_time,\n",
    "        rf_plaintext_time\n",
    "    ],\n",
    "    'Encrypted Inference Time (s)': [\n",
    "        lr_he_inference_time,\n",
    "        dt_he_inference_time,\n",
    "        rf_he_inference_time\n",
    "    ],\n",
    "    'Plaintext Training Time (s)': [\n",
    "        lr_plaintext_training_time,\n",
    "        dt_plaintext_training_time,\n",
    "        rf_plaintext_training_time\n",
    "    ],\n",
    "    'Encrypted Training Time (s)': [\n",
    "        lr_he_training_time,\n",
    "        dt_he_training_time,\n",
    "        rf_he_training_time\n",
    "    ]\n",
    "})\n",
    "\n",
    "# Calculate the increase percentage for inference time\n",
    "results_df['Inference Time Increase (%)'] = (\n",
    "    (results_df['Encrypted Inference Time (s)'] - results_df['Plaintext Inference Time (s)'])\n",
    "    / results_df['Plaintext Inference Time (s)']\n",
    ") * 100\n",
    "\n",
    "# Handle division by zero or very small plaintext times\n",
    "results_df['Inference Time Increase (%)'] = results_df['Inference Time Increase (%)'].replace([np.inf, -np.inf], np.nan)\n",
    "results_df['Inference Time Increase (%)'] = results_df['Inference Time Increase (%)'].fillna(0).round(2)\n",
    "\n",
    "# Calculate the increase percentage for Training time\n",
    "results_df['Training Time Increase (%)'] = (\n",
    "    (results_df['Encrypted Training Time (s)'] - results_df['Plaintext Training Time (s)'])\n",
    "    / results_df['Plaintext Training Time (s)']\n",
    ") * 100\n",
    "\n",
    "# Handle division by zero or very small plaintext times\n",
    "results_df['Training Time Increase (%)'] = results_df['Training Time Increase (%)'].replace([np.inf, -np.inf], np.nan)\n",
    "results_df['Training Time Increase (%)'] = results_df['Training Time Increase (%)'].fillna(0).round(2)\n",
    "\n",
    "\n",
    "# Display the accuracy table\n",
    "print(\"\\nModel Accuracy Comparison:\")\n",
    "display(results_df[['Model', 'Plaintext Accuracy (%)', 'Encrypted Accuracy (%)']])\n",
    "\n",
    "# Display the inference time table\n",
    "print(\"\\nInference Time Comparison with Increase Percentage:\")\n",
    "display(results_df[['Model', 'Plaintext Inference Time (s)', 'Encrypted Inference Time (s)', 'Inference Time Increase (%)']])\n",
    "\n",
    "# Display the training time table\n",
    "print(\"\\nTraining Time Comparison:\")\n",
    "display(results_df[['Model', 'Plaintext Training Time (s)', 'Encrypted Training Time (s)', 'Training Time Increase (%)']])\n"
   ],
   "id": "ec8a804e58ee6f31",
   "outputs": [
    {
     "name": "stdout",
     "output_type": "stream",
     "text": [
      "\n",
      "Model Accuracy Comparison:\n"
     ]
    },
    {
     "data": {
      "text/plain": [
       "                 Model  Plaintext Accuracy (%)  Encrypted Accuracy (%)\n",
       "0  Logistic Regression               97.368421               97.368421\n",
       "1        Decision Tree               94.736842               96.491228\n",
       "2        Random Forest               95.614035               95.614035"
      ],
      "text/html": [
       "<div>\n",
       "<style scoped>\n",
       "    .dataframe tbody tr th:only-of-type {\n",
       "        vertical-align: middle;\n",
       "    }\n",
       "\n",
       "    .dataframe tbody tr th {\n",
       "        vertical-align: top;\n",
       "    }\n",
       "\n",
       "    .dataframe thead th {\n",
       "        text-align: right;\n",
       "    }\n",
       "</style>\n",
       "<table border=\"1\" class=\"dataframe\">\n",
       "  <thead>\n",
       "    <tr style=\"text-align: right;\">\n",
       "      <th></th>\n",
       "      <th>Model</th>\n",
       "      <th>Plaintext Accuracy (%)</th>\n",
       "      <th>Encrypted Accuracy (%)</th>\n",
       "    </tr>\n",
       "  </thead>\n",
       "  <tbody>\n",
       "    <tr>\n",
       "      <th>0</th>\n",
       "      <td>Logistic Regression</td>\n",
       "      <td>97.368421</td>\n",
       "      <td>97.368421</td>\n",
       "    </tr>\n",
       "    <tr>\n",
       "      <th>1</th>\n",
       "      <td>Decision Tree</td>\n",
       "      <td>94.736842</td>\n",
       "      <td>96.491228</td>\n",
       "    </tr>\n",
       "    <tr>\n",
       "      <th>2</th>\n",
       "      <td>Random Forest</td>\n",
       "      <td>95.614035</td>\n",
       "      <td>95.614035</td>\n",
       "    </tr>\n",
       "  </tbody>\n",
       "</table>\n",
       "</div>"
      ]
     },
     "metadata": {},
     "output_type": "display_data"
    },
    {
     "name": "stdout",
     "output_type": "stream",
     "text": [
      "\n",
      "Inference Time Comparison with Increase Percentage:\n"
     ]
    },
    {
     "data": {
      "text/plain": [
       "                 Model  Plaintext Inference Time (s)  \\\n",
       "0  Logistic Regression                      0.000208   \n",
       "1        Decision Tree                      0.000301   \n",
       "2        Random Forest                      0.000587   \n",
       "\n",
       "   Encrypted Inference Time (s)  Inference Time Increase (%)  \n",
       "0                      0.000345                        65.64  \n",
       "1                      0.000910                       201.98  \n",
       "2                      0.001839                       213.24  "
      ],
      "text/html": [
       "<div>\n",
       "<style scoped>\n",
       "    .dataframe tbody tr th:only-of-type {\n",
       "        vertical-align: middle;\n",
       "    }\n",
       "\n",
       "    .dataframe tbody tr th {\n",
       "        vertical-align: top;\n",
       "    }\n",
       "\n",
       "    .dataframe thead th {\n",
       "        text-align: right;\n",
       "    }\n",
       "</style>\n",
       "<table border=\"1\" class=\"dataframe\">\n",
       "  <thead>\n",
       "    <tr style=\"text-align: right;\">\n",
       "      <th></th>\n",
       "      <th>Model</th>\n",
       "      <th>Plaintext Inference Time (s)</th>\n",
       "      <th>Encrypted Inference Time (s)</th>\n",
       "      <th>Inference Time Increase (%)</th>\n",
       "    </tr>\n",
       "  </thead>\n",
       "  <tbody>\n",
       "    <tr>\n",
       "      <th>0</th>\n",
       "      <td>Logistic Regression</td>\n",
       "      <td>0.000208</td>\n",
       "      <td>0.000345</td>\n",
       "      <td>65.64</td>\n",
       "    </tr>\n",
       "    <tr>\n",
       "      <th>1</th>\n",
       "      <td>Decision Tree</td>\n",
       "      <td>0.000301</td>\n",
       "      <td>0.000910</td>\n",
       "      <td>201.98</td>\n",
       "    </tr>\n",
       "    <tr>\n",
       "      <th>2</th>\n",
       "      <td>Random Forest</td>\n",
       "      <td>0.000587</td>\n",
       "      <td>0.001839</td>\n",
       "      <td>213.24</td>\n",
       "    </tr>\n",
       "  </tbody>\n",
       "</table>\n",
       "</div>"
      ]
     },
     "metadata": {},
     "output_type": "display_data"
    },
    {
     "name": "stdout",
     "output_type": "stream",
     "text": [
      "\n",
      "Training Time Comparison:\n"
     ]
    },
    {
     "data": {
      "text/plain": [
       "                 Model  Plaintext Training Time (s)  \\\n",
       "0  Logistic Regression                     0.005889   \n",
       "1        Decision Tree                     0.007988   \n",
       "2        Random Forest                     0.017493   \n",
       "\n",
       "   Encrypted Training Time (s)  Training Time Increase (%)  \n",
       "0                     0.051738                      778.53  \n",
       "1                     0.128811                     1512.47  \n",
       "2                     0.152718                      773.00  "
      ],
      "text/html": [
       "<div>\n",
       "<style scoped>\n",
       "    .dataframe tbody tr th:only-of-type {\n",
       "        vertical-align: middle;\n",
       "    }\n",
       "\n",
       "    .dataframe tbody tr th {\n",
       "        vertical-align: top;\n",
       "    }\n",
       "\n",
       "    .dataframe thead th {\n",
       "        text-align: right;\n",
       "    }\n",
       "</style>\n",
       "<table border=\"1\" class=\"dataframe\">\n",
       "  <thead>\n",
       "    <tr style=\"text-align: right;\">\n",
       "      <th></th>\n",
       "      <th>Model</th>\n",
       "      <th>Plaintext Training Time (s)</th>\n",
       "      <th>Encrypted Training Time (s)</th>\n",
       "      <th>Training Time Increase (%)</th>\n",
       "    </tr>\n",
       "  </thead>\n",
       "  <tbody>\n",
       "    <tr>\n",
       "      <th>0</th>\n",
       "      <td>Logistic Regression</td>\n",
       "      <td>0.005889</td>\n",
       "      <td>0.051738</td>\n",
       "      <td>778.53</td>\n",
       "    </tr>\n",
       "    <tr>\n",
       "      <th>1</th>\n",
       "      <td>Decision Tree</td>\n",
       "      <td>0.007988</td>\n",
       "      <td>0.128811</td>\n",
       "      <td>1512.47</td>\n",
       "    </tr>\n",
       "    <tr>\n",
       "      <th>2</th>\n",
       "      <td>Random Forest</td>\n",
       "      <td>0.017493</td>\n",
       "      <td>0.152718</td>\n",
       "      <td>773.00</td>\n",
       "    </tr>\n",
       "  </tbody>\n",
       "</table>\n",
       "</div>"
      ]
     },
     "metadata": {},
     "output_type": "display_data"
    }
   ],
   "execution_count": 62
  },
  {
   "metadata": {},
   "cell_type": "markdown",
   "source": [
    "\n",
    "### **Conclusion on Accuracy:**\n",
    "\n",
    "- **Consistency:** For **Logistic Regression** and **Random Forest**, HE maintained the same level of accuracy as plaintext models.\n",
    "- **Enhanced Performance:** For **Decision Tree**, HE slightly improved accuracy, which is an unexpected and positive outcome. However, it's essential to verify if this improvement is consistent across multiple runs or datasets to rule out anomalies.\n",
    "\n",
    "### **Conclusion on Inference Time:**\n",
    "\n",
    "- **Performance Overhead:** HE introduces a **significant** computational overhead in inference times across all models, especially in Decision Trees and Random Forests.\n",
    "- **Acceptability:** While the overhead is substantial, the trade-off might be acceptable depending on the application's privacy requirements. For real-time applications, this delay could be problematic, whereas, for batch processing, it might be manageable.\n",
    "\n",
    "### **Conclusion on Training Time:**\n",
    "\n",
    "- **Significant Overhead:** HE introduces a **massive** increase in training times across all models.\n",
    "- **Practical Implications:** Such overheads may limit the practicality of training HE models, especially with larger datasets or more complex models. Consider pre-training models in plaintext and only performing encrypted inference if real-time or frequent retraining isn't required.\n",
    "\n"
   ],
   "id": "ba81a9379714ee76"
  },
  {
   "metadata": {},
   "cell_type": "markdown",
   "source": "#### Experiments with Different n_bits Values on Decision Tree Classifier",
   "id": "acd3fa026471f522"
  },
  {
   "metadata": {
    "ExecuteTime": {
     "end_time": "2024-10-06T13:35:01.687929Z",
     "start_time": "2024-10-06T13:34:43.196663Z"
    }
   },
   "cell_type": "code",
   "source": [
    "# Iterate over different n_bits values for HE Decision Tree and tabulate results\n",
    "\n",
    "# Define the list of n_bits to test\n",
    "n_bits_list = [1,2,3,4,5,6,7,8,9,10,11,12,13]\n",
    "\n",
    "# Initialize a list to store the results\n",
    "results = []\n",
    "\n",
    "for n_bits in n_bits_list:\n",
    "    print(f\"Processing n_bits={n_bits}...\")\n",
    "    \n",
    "    # Initialize the HE Decision Tree Classifier with the current n_bits\n",
    "    dt_he = HEDecisionTreeClassifier(n_bits=n_bits, random_state=42, max_depth=5)\n",
    "    \n",
    "    # Measure training time\n",
    "    start_time = time.time()\n",
    "    dt_he.fit(X_train, y_train)\n",
    "    training_time = time.time() - start_time\n",
    "    \n",
    "    # Compile the model for FHE execution\n",
    "    print(\"Compiling Decision Tree model for FHE...\")\n",
    "    dt_he.compile(X_train)\n",
    "    \n",
    "    # Measure inference time\n",
    "    start_time = time.time()\n",
    "    y_pred_he = dt_he.predict(X_test)\n",
    "    inference_time = time.time() - start_time\n",
    "    \n",
    "    # Evaluate accuracy\n",
    "    accuracy = accuracy_score(y_test, y_pred_he) * 100\n",
    "    \n",
    "    # Append the results to the list\n",
    "    results.append({\n",
    "        'n_bits': n_bits,\n",
    "        'Training Time (s)': training_time,\n",
    "        'Inference Time (s)': inference_time,\n",
    "        'Accuracy (%)': accuracy\n",
    "    })\n",
    "    \n",
    "    print(f\"n_bits={n_bits} - Accuracy: {accuracy:.2f}%, Training Time: {training_time:.6f}s, Inference Time: {inference_time:.6f}s\\n\")\n",
    "\n",
    "# Create a DataFrame to display the results\n",
    "results_df = pd.DataFrame(results)"
   ],
   "id": "5f329efd6d3c3efa",
   "outputs": [
    {
     "name": "stdout",
     "output_type": "stream",
     "text": [
      "Processing n_bits=1...\n",
      "Compiling Decision Tree model for FHE...\n",
      "n_bits=1 - Accuracy: 70.18%, Training Time: 0.143933s, Inference Time: 0.001209s\n",
      "\n",
      "Processing n_bits=2...\n",
      "Compiling Decision Tree model for FHE...\n",
      "n_bits=2 - Accuracy: 86.84%, Training Time: 0.176179s, Inference Time: 0.000863s\n",
      "\n",
      "Processing n_bits=3...\n",
      "Compiling Decision Tree model for FHE...\n",
      "n_bits=3 - Accuracy: 92.98%, Training Time: 0.121711s, Inference Time: 0.001465s\n",
      "\n",
      "Processing n_bits=4...\n",
      "Compiling Decision Tree model for FHE...\n",
      "n_bits=4 - Accuracy: 93.86%, Training Time: 0.156944s, Inference Time: 0.000908s\n",
      "\n",
      "Processing n_bits=5...\n",
      "Compiling Decision Tree model for FHE...\n",
      "n_bits=5 - Accuracy: 92.98%, Training Time: 0.142101s, Inference Time: 0.001129s\n",
      "\n",
      "Processing n_bits=6...\n",
      "Compiling Decision Tree model for FHE...\n",
      "n_bits=6 - Accuracy: 94.74%, Training Time: 0.261897s, Inference Time: 0.001291s\n",
      "\n",
      "Processing n_bits=7...\n",
      "Compiling Decision Tree model for FHE...\n",
      "n_bits=7 - Accuracy: 96.49%, Training Time: 0.149366s, Inference Time: 0.001215s\n",
      "\n",
      "Processing n_bits=8...\n",
      "Compiling Decision Tree model for FHE...\n",
      "n_bits=8 - Accuracy: 93.86%, Training Time: 0.117143s, Inference Time: 0.000985s\n",
      "\n",
      "Processing n_bits=9...\n",
      "Compiling Decision Tree model for FHE...\n",
      "n_bits=9 - Accuracy: 96.49%, Training Time: 0.112439s, Inference Time: 0.000849s\n",
      "\n",
      "Processing n_bits=10...\n",
      "Compiling Decision Tree model for FHE...\n",
      "n_bits=10 - Accuracy: 96.49%, Training Time: 0.116126s, Inference Time: 0.000924s\n",
      "\n",
      "Processing n_bits=11...\n",
      "Compiling Decision Tree model for FHE...\n",
      "n_bits=11 - Accuracy: 94.74%, Training Time: 0.111029s, Inference Time: 0.000999s\n",
      "\n",
      "Processing n_bits=12...\n",
      "Compiling Decision Tree model for FHE...\n",
      "n_bits=12 - Accuracy: 94.74%, Training Time: 0.141384s, Inference Time: 0.000959s\n",
      "\n",
      "Processing n_bits=13...\n",
      "Compiling Decision Tree model for FHE...\n",
      "n_bits=13 - Accuracy: 94.74%, Training Time: 0.112816s, Inference Time: 0.000955s\n",
      "\n"
     ]
    }
   ],
   "execution_count": 72
  },
  {
   "metadata": {
    "ExecuteTime": {
     "end_time": "2024-10-06T13:35:01.698603Z",
     "start_time": "2024-10-06T13:35:01.689438Z"
    }
   },
   "cell_type": "code",
   "source": [
    "# Display the results table\n",
    "print(\"HE Decision Tree Performance with Different n_bits:\")\n",
    "display(results_df)\n"
   ],
   "id": "ef36f7e4e4eae85e",
   "outputs": [
    {
     "name": "stdout",
     "output_type": "stream",
     "text": [
      "HE Decision Tree Performance with Different n_bits:\n"
     ]
    },
    {
     "data": {
      "text/plain": [
       "    n_bits  Training Time (s)  Inference Time (s)  Accuracy (%)\n",
       "0        1           0.143933            0.001209     70.175439\n",
       "1        2           0.176179            0.000863     86.842105\n",
       "2        3           0.121711            0.001465     92.982456\n",
       "3        4           0.156944            0.000908     93.859649\n",
       "4        5           0.142101            0.001129     92.982456\n",
       "5        6           0.261897            0.001291     94.736842\n",
       "6        7           0.149366            0.001215     96.491228\n",
       "7        8           0.117143            0.000985     93.859649\n",
       "8        9           0.112439            0.000849     96.491228\n",
       "9       10           0.116126            0.000924     96.491228\n",
       "10      11           0.111029            0.000999     94.736842\n",
       "11      12           0.141384            0.000959     94.736842\n",
       "12      13           0.112816            0.000955     94.736842"
      ],
      "text/html": [
       "<div>\n",
       "<style scoped>\n",
       "    .dataframe tbody tr th:only-of-type {\n",
       "        vertical-align: middle;\n",
       "    }\n",
       "\n",
       "    .dataframe tbody tr th {\n",
       "        vertical-align: top;\n",
       "    }\n",
       "\n",
       "    .dataframe thead th {\n",
       "        text-align: right;\n",
       "    }\n",
       "</style>\n",
       "<table border=\"1\" class=\"dataframe\">\n",
       "  <thead>\n",
       "    <tr style=\"text-align: right;\">\n",
       "      <th></th>\n",
       "      <th>n_bits</th>\n",
       "      <th>Training Time (s)</th>\n",
       "      <th>Inference Time (s)</th>\n",
       "      <th>Accuracy (%)</th>\n",
       "    </tr>\n",
       "  </thead>\n",
       "  <tbody>\n",
       "    <tr>\n",
       "      <th>0</th>\n",
       "      <td>1</td>\n",
       "      <td>0.143933</td>\n",
       "      <td>0.001209</td>\n",
       "      <td>70.175439</td>\n",
       "    </tr>\n",
       "    <tr>\n",
       "      <th>1</th>\n",
       "      <td>2</td>\n",
       "      <td>0.176179</td>\n",
       "      <td>0.000863</td>\n",
       "      <td>86.842105</td>\n",
       "    </tr>\n",
       "    <tr>\n",
       "      <th>2</th>\n",
       "      <td>3</td>\n",
       "      <td>0.121711</td>\n",
       "      <td>0.001465</td>\n",
       "      <td>92.982456</td>\n",
       "    </tr>\n",
       "    <tr>\n",
       "      <th>3</th>\n",
       "      <td>4</td>\n",
       "      <td>0.156944</td>\n",
       "      <td>0.000908</td>\n",
       "      <td>93.859649</td>\n",
       "    </tr>\n",
       "    <tr>\n",
       "      <th>4</th>\n",
       "      <td>5</td>\n",
       "      <td>0.142101</td>\n",
       "      <td>0.001129</td>\n",
       "      <td>92.982456</td>\n",
       "    </tr>\n",
       "    <tr>\n",
       "      <th>5</th>\n",
       "      <td>6</td>\n",
       "      <td>0.261897</td>\n",
       "      <td>0.001291</td>\n",
       "      <td>94.736842</td>\n",
       "    </tr>\n",
       "    <tr>\n",
       "      <th>6</th>\n",
       "      <td>7</td>\n",
       "      <td>0.149366</td>\n",
       "      <td>0.001215</td>\n",
       "      <td>96.491228</td>\n",
       "    </tr>\n",
       "    <tr>\n",
       "      <th>7</th>\n",
       "      <td>8</td>\n",
       "      <td>0.117143</td>\n",
       "      <td>0.000985</td>\n",
       "      <td>93.859649</td>\n",
       "    </tr>\n",
       "    <tr>\n",
       "      <th>8</th>\n",
       "      <td>9</td>\n",
       "      <td>0.112439</td>\n",
       "      <td>0.000849</td>\n",
       "      <td>96.491228</td>\n",
       "    </tr>\n",
       "    <tr>\n",
       "      <th>9</th>\n",
       "      <td>10</td>\n",
       "      <td>0.116126</td>\n",
       "      <td>0.000924</td>\n",
       "      <td>96.491228</td>\n",
       "    </tr>\n",
       "    <tr>\n",
       "      <th>10</th>\n",
       "      <td>11</td>\n",
       "      <td>0.111029</td>\n",
       "      <td>0.000999</td>\n",
       "      <td>94.736842</td>\n",
       "    </tr>\n",
       "    <tr>\n",
       "      <th>11</th>\n",
       "      <td>12</td>\n",
       "      <td>0.141384</td>\n",
       "      <td>0.000959</td>\n",
       "      <td>94.736842</td>\n",
       "    </tr>\n",
       "    <tr>\n",
       "      <th>12</th>\n",
       "      <td>13</td>\n",
       "      <td>0.112816</td>\n",
       "      <td>0.000955</td>\n",
       "      <td>94.736842</td>\n",
       "    </tr>\n",
       "  </tbody>\n",
       "</table>\n",
       "</div>"
      ]
     },
     "metadata": {},
     "output_type": "display_data"
    }
   ],
   "execution_count": 73
  },
  {
   "metadata": {
    "ExecuteTime": {
     "end_time": "2024-10-06T13:39:23.989219Z",
     "start_time": "2024-10-06T13:39:23.078318Z"
    }
   },
   "cell_type": "code",
   "source": [
    "# Plot Training Time, Inference Time, and Accuracy separately across different n_bits arranged side by side\n",
    "\n",
    "import matplotlib.pyplot as plt\n",
    "import seaborn as sns\n",
    "\n",
    "# Ensure that the DataFrame 'results_df' exists with the required columns\n",
    "# If not, replace 'results_df' with your actual DataFrame variable name\n",
    "\n",
    "# Convert times to milliseconds for better visualization\n",
    "results_df['Training Time (ms)'] = results_df['Training Time (s)'] * 1000\n",
    "results_df['Inference Time (ms)'] = results_df['Inference Time (s)'] * 1000\n",
    "\n",
    "# Set the aesthetic style of the plots\n",
    "sns.set(style=\"whitegrid\")\n",
    "\n",
    "# Create a figure with three horizontally arranged subplots\n",
    "fig, axes = plt.subplots(1, 3, figsize=(18, 5))\n",
    "\n",
    "# 1. Plot Training Time vs n_bits\n",
    "sns.lineplot(data=results_df, x='n_bits', y='Training Time (ms)', marker='o', color='blue', ax=axes[0])\n",
    "axes[0].set_title('Training Time vs n_bits')\n",
    "axes[0].set_xlabel('n_bits')\n",
    "axes[0].set_ylabel('Training Time (ms)')\n",
    "axes[0].set_xticks(results_df['n_bits'])\n",
    "axes[0].tick_params(axis='x', rotation=45)\n",
    "axes[0].grid(True)\n",
    "\n",
    "# 2. Plot Inference Time vs n_bits\n",
    "sns.lineplot(data=results_df, x='n_bits', y='Inference Time (ms)', marker='o', color='orange', ax=axes[1])\n",
    "axes[1].set_title('Inference Time vs n_bits')\n",
    "axes[1].set_xlabel('n_bits')\n",
    "axes[1].set_ylabel('Inference Time (ms)')\n",
    "axes[1].set_xticks(results_df['n_bits'])\n",
    "axes[1].tick_params(axis='x', rotation=45)\n",
    "axes[1].grid(True)\n",
    "\n",
    "# 3. Plot Accuracy vs n_bits\n",
    "sns.lineplot(data=results_df, x='n_bits', y='Accuracy (%)', marker='o', color='green', ax=axes[2])\n",
    "axes[2].set_title('Accuracy vs n_bits')\n",
    "axes[2].set_xlabel('n_bits')\n",
    "axes[2].set_ylabel('Accuracy (%)')\n",
    "axes[2].set_xticks(results_df['n_bits'])\n",
    "axes[2].tick_params(axis='x', rotation=45)\n",
    "axes[2].grid(True)\n",
    "\n",
    "# Adjust layout for better spacing\n",
    "plt.tight_layout()\n",
    "\n",
    "# Display the plots\n",
    "plt.show()\n"
   ],
   "id": "b4699550f8e10a21",
   "outputs": [
    {
     "data": {
      "text/plain": [
       "<Figure size 1800x500 with 3 Axes>"
      ],
      "image/png": "[encoded data removed]"
     },
     "metadata": {},
     "output_type": "display_data"
    }
   ],
   "execution_count": 78
  },
  {
   "metadata": {},
   "cell_type": "markdown",
   "source": [
    "**Overall Insights:**\n",
    "\n",
    "- **Optimal Precision:** Setting `n_bits` between **7 and 9** offers the best balance between high accuracy (~96.49%) and reasonable training/inference times.\n",
    "  \n",
    "- **Diminishing Returns:** Increasing `n_bits` beyond 9 does not yield significant accuracy improvements and may introduce unnecessary computational overhead.\n",
    "  \n",
    "- **Low Precision Risks:** Using very low `n_bits` (e.g., 1 or 3) severely hampers model performance, highlighting the importance of sufficient precision in HE-based models.\n",
    "  \n",
    "- **Inference Efficiency:** Despite variations in `n_bits`, inference times remain low and relatively unaffected, making HE Decision Trees feasible for scenarios where prediction speed is critical.\n"
   ],
   "id": "bbb0510e4c43e8c6"
  },
  {
   "metadata": {},
   "cell_type": "markdown",
   "source": [
    "## TODO\n",
    "- [X] Demonstrate the use of homomorphic encryption with Neural Networks. {Not doing this, the machine has no GPU support}\n",
    "- [x] Evaluate the n-bits effect on the accuracy and inference time for decision trees model\n",
    "- [ ] Hyperopt experiment with plaintext vs homomorphic encryption for hyperparameter optimization.\n",
    "- [ ] Demonstrate the security and privacy benefits of homomorphic encryption with client side decryption and server side encryption.\n",
    "- [ ] Web application for encrypted inference with homomorphic encryption."
   ],
   "id": "2388c84edd23b399"
  },
  {
   "metadata": {},
   "cell_type": "code",
   "outputs": [],
   "execution_count": null,
   "source": "",
   "id": "a69c5709b4c106ca"
  }
 ],
 "metadata": {
  "kernelspec": {
   "display_name": "Python 3",
   "language": "python",
   "name": "python3"
  },
  "language_info": {
   "codemirror_mode": {
    "name": "ipython",
    "version": 2
   },
   "file_extension": ".py",
   "mimetype": "text/x-python",
   "name": "python",
   "nbconvert_exporter": "python",
   "pygments_lexer": "ipython2",
   "version": "2.7.6"
  }
 },
 "nbformat": 4,
 "nbformat_minor": 5
}
