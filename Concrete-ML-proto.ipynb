{
 "cells": [
  {
   "metadata": {},
   "cell_type": "markdown",
   "source": [
    "### Concrete ML configuration with docker (didn't work)\n",
    "https://docs.zama.ai/concrete-ml/get-started/pip_installing#installation-using-docker\n",
    "Installation only available via [Docker](https://docs.docker.com/desktop/install/windows-install/) on Windows Machine.\n",
    "```docker\n",
    "docker pull zamafhe/concrete-ml:latest\n",
    "```\n"
   ],
   "id": "8de1377a4175e65d"
  },
  {
   "metadata": {},
   "cell_type": "markdown",
   "source": [
    "### Concrete ML configuration with Windows Subsystem for Linux (WSL)\n",
    "\n",
    "- install WLS: \n",
    "```powershell\n",
    "        wsl --install\n",
    "```\n",
    "- install conda and python 3.11, [installation guide](https://gist.github.com/kauffmanes/5e74916617f9993bc3479f401dfec7da)\n",
    "- install concrete ML\n",
    "```bash\n",
    "        pip install -U pip wheel setuptools\n",
    "        pip install concrete-ml\n",
    "```\n",
    "- configure interpreter under WSL (e.g. via [Pycharm](https://www.jetbrains.com/help/pycharm/using-wsl-as-a-remote-interpreter.html))\n",
    "\n",
    "![pycharm_wls](pycharm_wsl.png)"
   ],
   "id": "2d18572ca28fdcc3"
  },
  {
   "metadata": {},
   "cell_type": "markdown",
   "source": [
    "## Homomorphic Encryption in Machine Learning with Concrete-ML\n",
    "\n",
    "This Jupyter Notebook demonstrates how to use homomorphic encryption (HE) with machine learning models using the Concrete-ML library. We'll train three different models in plaintext and then apply homomorphic encryption to perform encrypted inference with the same models.\n",
    "\n",
    "Models Used:\n",
    "\n",
    "1. Logistic Regression\n",
    "2. Decision Tree Classifier\n",
    "3. Random Forest Classifier\n",
    "\n",
    "Important Note on XGBoost and Concrete-ML\n",
    "Concrete-ML supports specific models that can be compiled into their FHE counterparts, such as Logistic Regression, Decision Trees, Random Forests, and Neural Networks."
   ],
   "id": "3a9cc43dbdf5ece7"
  },
  {
   "metadata": {
    "ExecuteTime": {
     "end_time": "2024-10-06T12:47:49.101778Z",
     "start_time": "2024-10-06T12:47:47.446142Z"
    }
   },
   "cell_type": "code",
   "source": "!pip install seaborn",
   "id": "7911070231c12a52",
   "outputs": [
    {
     "name": "stdout",
     "output_type": "stream",
     "text": [
      "/bin/bash: warning: setlocale: LC_ALL: cannot change locale (en_US.UTF-8)\r\n",
      "Collecting seaborn\r\n",
      "  Downloading seaborn-0.13.2-py3-none-any.whl.metadata (5.4 kB)\r\n",
      "Requirement already satisfied: numpy!=1.24.0,>=1.20 in /home/liu/anaconda3/envs/py311_concrete/lib/python3.11/site-packages (from seaborn) (1.24.2)\r\n",
      "Requirement already satisfied: pandas>=1.2 in /home/liu/anaconda3/envs/py311_concrete/lib/python3.11/site-packages (from seaborn) (2.0.3)\r\n",
      "Requirement already satisfied: matplotlib!=3.6.1,>=3.4 in /home/liu/anaconda3/envs/py311_concrete/lib/python3.11/site-packages (from seaborn) (3.9.2)\r\n",
      "Requirement already satisfied: contourpy>=1.0.1 in /home/liu/anaconda3/envs/py311_concrete/lib/python3.11/site-packages (from matplotlib!=3.6.1,>=3.4->seaborn) (1.3.0)\r\n",
      "Requirement already satisfied: cycler>=0.10 in /home/liu/anaconda3/envs/py311_concrete/lib/python3.11/site-packages (from matplotlib!=3.6.1,>=3.4->seaborn) (0.12.1)\r\n",
      "Requirement already satisfied: fonttools>=4.22.0 in /home/liu/anaconda3/envs/py311_concrete/lib/python3.11/site-packages (from matplotlib!=3.6.1,>=3.4->seaborn) (4.54.1)\r\n",
      "Requirement already satisfied: kiwisolver>=1.3.1 in /home/liu/anaconda3/envs/py311_concrete/lib/python3.11/site-packages (from matplotlib!=3.6.1,>=3.4->seaborn) (1.4.7)\r\n",
      "Requirement already satisfied: packaging>=20.0 in /home/liu/anaconda3/envs/py311_concrete/lib/python3.11/site-packages (from matplotlib!=3.6.1,>=3.4->seaborn) (24.1)\r\n",
      "Requirement already satisfied: pillow>=8 in /home/liu/anaconda3/envs/py311_concrete/lib/python3.11/site-packages (from matplotlib!=3.6.1,>=3.4->seaborn) (10.4.0)\r\n",
      "Requirement already satisfied: pyparsing>=2.3.1 in /home/liu/anaconda3/envs/py311_concrete/lib/python3.11/site-packages (from matplotlib!=3.6.1,>=3.4->seaborn) (3.1.4)\r\n",
      "Requirement already satisfied: python-dateutil>=2.7 in /home/liu/anaconda3/envs/py311_concrete/lib/python3.11/site-packages (from matplotlib!=3.6.1,>=3.4->seaborn) (2.9.0.post0)\r\n",
      "Requirement already satisfied: pytz>=2020.1 in /home/liu/anaconda3/envs/py311_concrete/lib/python3.11/site-packages (from pandas>=1.2->seaborn) (2024.1)\r\n",
      "Requirement already satisfied: tzdata>=2022.1 in /home/liu/anaconda3/envs/py311_concrete/lib/python3.11/site-packages (from pandas>=1.2->seaborn) (2023.3)\r\n",
      "Requirement already satisfied: six>=1.5 in /home/liu/anaconda3/envs/py311_concrete/lib/python3.11/site-packages (from python-dateutil>=2.7->matplotlib!=3.6.1,>=3.4->seaborn) (1.16.0)\r\n",
      "Downloading seaborn-0.13.2-py3-none-any.whl (294 kB)\r\n",
      "Installing collected packages: seaborn\r\n",
      "Successfully installed seaborn-0.13.2\r\n"
     ]
    }
   ],
   "execution_count": 19
  },
  {
   "metadata": {
    "ExecuteTime": {
     "end_time": "2024-10-06T12:57:30.245238Z",
     "start_time": "2024-10-06T12:57:30.241005Z"
    }
   },
   "cell_type": "code",
   "source": [
    "# Import necessary libraries\n",
    "import numpy as np\n",
    "import pandas as pd\n",
    "import time\n",
    "import matplotlib.pyplot as plt\n",
    "import seaborn as sns\n",
    "\n",
    "# Import scikit-learn modules\n",
    "from sklearn.datasets import load_breast_cancer\n",
    "from sklearn.preprocessing import StandardScaler\n",
    "from sklearn.model_selection import train_test_split\n",
    "from sklearn.metrics import accuracy_score, classification_report\n",
    "\n",
    "# Import Concrete-ML libraries\n",
    "from concrete.ml.sklearn import LogisticRegression as HELogisticRegression\n",
    "from concrete.ml.sklearn import DecisionTreeClassifier as HEDecisionTreeClassifier\n",
    "from concrete.ml.sklearn import RandomForestClassifier as HERandomForestClassifier\n",
    "\n",
    "# Import scikit-learn models\n",
    "from sklearn.linear_model import LogisticRegression\n",
    "from sklearn.tree import DecisionTreeClassifier\n",
    "from sklearn.ensemble import RandomForestClassifier\n"
   ],
   "id": "6c9891d9d7c05347",
   "outputs": [],
   "execution_count": 40
  },
  {
   "metadata": {
    "ExecuteTime": {
     "end_time": "2024-10-06T12:57:35.622370Z",
     "start_time": "2024-10-06T12:57:35.601949Z"
    }
   },
   "cell_type": "code",
   "source": [
    "# Load the Breast Cancer Wisconsin dataset\n",
    "data = load_breast_cancer()\n",
    "X = data.data\n",
    "y = data.target\n",
    "feature_names = data.feature_names\n",
    "\n",
    "# Create a DataFrame for better visualization and manipulation\n",
    "df = pd.DataFrame(X, columns=feature_names)\n",
    "df['target'] = y\n",
    "\n",
    "# Check for missing values\n",
    "print(f\"Missing values in dataset: {df.isnull().sum().sum()}\")\n",
    "\n",
    "# Standardize the features\n",
    "scaler = StandardScaler()\n",
    "X_scaled = scaler.fit_transform(df.drop('target', axis=1))\n",
    "\n",
    "# Split the data into training and testing sets\n",
    "X_train, X_test, y_train, y_test = train_test_split(\n",
    "    X_scaled, df['target'], test_size=0.2, random_state=42\n",
    ")\n",
    "\n",
    "# Print dataset sizes\n",
    "print(f\"Training samples: {X_train.shape[0]}\")\n",
    "print(f\"Testing samples: {X_test.shape[0]}\")\n"
   ],
   "id": "fae217a6b67ad2b6",
   "outputs": [
    {
     "name": "stdout",
     "output_type": "stream",
     "text": [
      "Missing values in dataset: 0\n",
      "Training samples: 455\n",
      "Testing samples: 114\n"
     ]
    }
   ],
   "execution_count": 41
  },
  {
   "metadata": {
    "ExecuteTime": {
     "end_time": "2024-10-06T12:57:41.402432Z",
     "start_time": "2024-10-06T12:57:41.394386Z"
    }
   },
   "cell_type": "code",
   "source": [
    "def evaluate_model(model, model_name, X_test, y_test):\n",
    "    \"\"\"\n",
    "    Evaluates the model's performance on the test set.\n",
    "\n",
    "    Parameters:\n",
    "    - model: Trained machine learning model.\n",
    "    - model_name: Name of the model (string).\n",
    "    - X_test: Test features.\n",
    "    - y_test: Test labels.\n",
    "\n",
    "    Returns:\n",
    "    - accuracy: Accuracy score.\n",
    "    - inference_time: Time taken for inference.\n",
    "    \"\"\"\n",
    "    # Perform prediction\n",
    "    start_time = time.time()\n",
    "    y_pred = model.predict(X_test)\n",
    "    inference_time = time.time() - start_time\n",
    "    accuracy = accuracy_score(y_test, y_pred)\n",
    "    print(f\"\\n{model_name} Accuracy: {accuracy * 100:.2f}%\")\n",
    "    print(f\"Inference Time: {inference_time:.6f} seconds\")\n",
    "    print(f\"Classification Report:\\n{classification_report(y_test, y_pred)}\")\n",
    "    return accuracy, inference_time\n"
   ],
   "id": "ef5cab7a8ffe0b3f",
   "outputs": [],
   "execution_count": 42
  },
  {
   "metadata": {},
   "cell_type": "markdown",
   "source": "#### Logistic Regression",
   "id": "2ccc1d611fc37431"
  },
  {
   "metadata": {
    "ExecuteTime": {
     "end_time": "2024-10-06T12:57:46.868997Z",
     "start_time": "2024-10-06T12:57:46.848134Z"
    }
   },
   "cell_type": "code",
   "source": [
    "# Initialize the Logistic Regression model (plaintext)\n",
    "lr_plaintext = LogisticRegression(max_iter=1000)\n",
    "start_time = time.time()\n",
    "lr_plaintext.fit(X_train, y_train)\n",
    "lr_plaintext_training_time = time.time() - start_time\n",
    "\n",
    "# Evaluate the plaintext model\n",
    "lr_plaintext_accuracy, lr_plaintext_time = evaluate_model(\n",
    "    lr_plaintext, \"Logistic Regression (Plaintext)\", X_test, y_test\n",
    ")"
   ],
   "id": "50bc04d41cdd06a0",
   "outputs": [
    {
     "name": "stdout",
     "output_type": "stream",
     "text": [
      "\n",
      "Logistic Regression (Plaintext) Accuracy: 97.37%\n",
      "Inference Time: 0.000270 seconds\n",
      "Classification Report:\n",
      "              precision    recall  f1-score   support\n",
      "\n",
      "           0       0.98      0.95      0.96        43\n",
      "           1       0.97      0.99      0.98        71\n",
      "\n",
      "    accuracy                           0.97       114\n",
      "   macro avg       0.97      0.97      0.97       114\n",
      "weighted avg       0.97      0.97      0.97       114\n",
      "\n"
     ]
    }
   ],
   "execution_count": 43
  },
  {
   "metadata": {
    "ExecuteTime": {
     "end_time": "2024-10-06T12:58:19.400642Z",
     "start_time": "2024-10-06T12:58:19.108614Z"
    }
   },
   "cell_type": "code",
   "source": [
    "# Initialize the Logistic Regression model with Concrete-ML\n",
    "lr_he = HELogisticRegression(n_bits=7, max_iter=1000)\n",
    "start_time = time.time()\n",
    "lr_he.fit(X_train, y_train)\n",
    "lr_he_training_time = time.time() - start_time\n",
    "\n",
    "# Compile the model for FHE execution\n",
    "print(\"Compiling Logistic Regression model for FHE...\")\n",
    "lr_he.compile(X_train)\n",
    "\n",
    "# Perform encrypted inference on the test set\n",
    "start_time = time.time()\n",
    "y_pred_he = lr_he.predict(X_test)\n",
    "lr_he_inference_time = time.time() - start_time\n",
    "\n",
    "# Evaluate the HE model\n",
    "lr_he_accuracy = accuracy_score(y_test, y_pred_he)\n",
    "print(f\"\\nLogistic Regression (HE) Accuracy: {lr_he_accuracy * 100:.2f}%\")\n",
    "print(f\"Encrypted Inference Time: {lr_he_inference_time:.6f} seconds\")\n",
    "print(f\"Classification Report:\\n{classification_report(y_test, y_pred_he)}\")\n"
   ],
   "id": "b8ab0595e6f8aeb",
   "outputs": [
    {
     "name": "stdout",
     "output_type": "stream",
     "text": [
      "Compiling Logistic Regression model for FHE...\n",
      "\n",
      "Logistic Regression (HE) Accuracy: 97.37%\n",
      "Encrypted Inference Time: 0.000373 seconds\n",
      "Classification Report:\n",
      "              precision    recall  f1-score   support\n",
      "\n",
      "           0       0.98      0.95      0.96        43\n",
      "           1       0.97      0.99      0.98        71\n",
      "\n",
      "    accuracy                           0.97       114\n",
      "   macro avg       0.97      0.97      0.97       114\n",
      "weighted avg       0.97      0.97      0.97       114\n",
      "\n"
     ]
    }
   ],
   "execution_count": 44
  },
  {
   "metadata": {},
   "cell_type": "markdown",
   "source": "#### Decision Tree Classifier",
   "id": "4e85108a174f84ea"
  },
  {
   "metadata": {
    "ExecuteTime": {
     "end_time": "2024-10-06T12:58:27.778769Z",
     "start_time": "2024-10-06T12:58:27.758621Z"
    }
   },
   "cell_type": "code",
   "source": [
    "# Initialize the Decision Tree Classifier (plaintext)\n",
    "dt_plaintext = DecisionTreeClassifier(random_state=42, max_depth=5)\n",
    "start_time = time.time()\n",
    "dt_plaintext.fit(X_train, y_train)\n",
    "dt_plaintext_training_time = time.time() - start_time\n",
    "\n",
    "# Evaluate the plaintext model\n",
    "dt_plaintext_accuracy, dt_plaintext_time = evaluate_model(\n",
    "    dt_plaintext, \"Decision Tree Classifier (Plaintext)\", X_test, y_test\n",
    ")\n"
   ],
   "id": "377ddc084109e86c",
   "outputs": [
    {
     "name": "stdout",
     "output_type": "stream",
     "text": [
      "\n",
      "Decision Tree Classifier (Plaintext) Accuracy: 94.74%\n",
      "Inference Time: 0.000429 seconds\n",
      "Classification Report:\n",
      "              precision    recall  f1-score   support\n",
      "\n",
      "           0       0.93      0.93      0.93        43\n",
      "           1       0.96      0.96      0.96        71\n",
      "\n",
      "    accuracy                           0.95       114\n",
      "   macro avg       0.94      0.94      0.94       114\n",
      "weighted avg       0.95      0.95      0.95       114\n",
      "\n"
     ]
    }
   ],
   "execution_count": 45
  },
  {
   "metadata": {
    "ExecuteTime": {
     "end_time": "2024-10-06T12:58:37.797025Z",
     "start_time": "2024-10-06T12:58:33.791543Z"
    }
   },
   "cell_type": "code",
   "source": [
    "# Initialize the Decision Tree Classifier with Concrete-ML\n",
    "dt_he = HEDecisionTreeClassifier(n_bits=7, max_depth=5)\n",
    "start_time = time.time()\n",
    "dt_he.fit(X_train, y_train)\n",
    "dt_he_training_time = time.time() - start_time\n",
    "\n",
    "# Compile the model for FHE execution\n",
    "print(\"Compiling Decision Tree model for FHE...\")\n",
    "dt_he.compile(X_train)\n",
    "\n",
    "# Perform encrypted inference on the test set\n",
    "start_time = time.time()\n",
    "y_pred_he = dt_he.predict(X_test)\n",
    "dt_he_inference_time = time.time() - start_time\n",
    "\n",
    "# Evaluate the HE model\n",
    "dt_he_accuracy = accuracy_score(y_test, y_pred_he)\n",
    "print(f\"\\nDecision Tree Classifier (HE) Accuracy: {dt_he_accuracy * 100:.2f}%\")\n",
    "print(f\"Encrypted Inference Time: {dt_he_inference_time:.6f} seconds\")\n",
    "print(f\"Classification Report:\\n{classification_report(y_test, y_pred_he)}\")\n"
   ],
   "id": "2617544c956c3f54",
   "outputs": [
    {
     "name": "stdout",
     "output_type": "stream",
     "text": [
      "Compiling Decision Tree model for FHE...\n",
      "\n",
      "Decision Tree Classifier (HE) Accuracy: 96.49%\n",
      "Encrypted Inference Time: 0.000893 seconds\n",
      "Classification Report:\n",
      "              precision    recall  f1-score   support\n",
      "\n",
      "           0       0.95      0.95      0.95        43\n",
      "           1       0.97      0.97      0.97        71\n",
      "\n",
      "    accuracy                           0.96       114\n",
      "   macro avg       0.96      0.96      0.96       114\n",
      "weighted avg       0.96      0.96      0.96       114\n",
      "\n"
     ]
    }
   ],
   "execution_count": 46
  },
  {
   "metadata": {},
   "cell_type": "markdown",
   "source": "#### Random Forest Classifier",
   "id": "28658dcb2926f0ff"
  },
  {
   "metadata": {
    "ExecuteTime": {
     "end_time": "2024-10-06T12:58:45.124477Z",
     "start_time": "2024-10-06T12:58:45.096752Z"
    }
   },
   "cell_type": "code",
   "source": [
    "# Initialize the Random Forest Classifier (plaintext)\n",
    "rf_plaintext = RandomForestClassifier(n_estimators=10, random_state=42, max_depth=5)\n",
    "start_time = time.time()\n",
    "rf_plaintext.fit(X_train, y_train)\n",
    "rf_plaintext_training_time = time.time() - start_time\n",
    "\n",
    "# Evaluate the plaintext model\n",
    "rf_plaintext_accuracy, rf_plaintext_time = evaluate_model(\n",
    "    rf_plaintext, \"Random Forest Classifier (Plaintext)\", X_test, y_test\n",
    ")\n"
   ],
   "id": "ee9b60c04986dd34",
   "outputs": [
    {
     "name": "stdout",
     "output_type": "stream",
     "text": [
      "\n",
      "Random Forest Classifier (Plaintext) Accuracy: 95.61%\n",
      "Inference Time: 0.000815 seconds\n",
      "Classification Report:\n",
      "              precision    recall  f1-score   support\n",
      "\n",
      "           0       0.95      0.93      0.94        43\n",
      "           1       0.96      0.97      0.97        71\n",
      "\n",
      "    accuracy                           0.96       114\n",
      "   macro avg       0.96      0.95      0.95       114\n",
      "weighted avg       0.96      0.96      0.96       114\n",
      "\n"
     ]
    }
   ],
   "execution_count": 47
  },
  {
   "metadata": {
    "ExecuteTime": {
     "end_time": "2024-10-06T12:58:50.180029Z",
     "start_time": "2024-10-06T12:58:48.547181Z"
    }
   },
   "cell_type": "code",
   "source": [
    "# Initialize the Random Forest Classifier with Concrete-ML\n",
    "rf_he = HERandomForestClassifier(n_bits=7, n_estimators=10, max_depth=5)\n",
    "start_time = time.time()\n",
    "rf_he.fit(X_train, y_train)\n",
    "rf_he_training_time = time.time() - start_time\n",
    "\n",
    "# Compile the model for FHE execution\n",
    "print(\"Compiling Random Forest model for FHE...\")\n",
    "rf_he.compile(X_train)\n",
    "\n",
    "# Perform encrypted inference on the test set\n",
    "start_time = time.time()\n",
    "y_pred_he = rf_he.predict(X_test)\n",
    "rf_he_inference_time = time.time() - start_time\n",
    "\n",
    "# Evaluate the HE model\n",
    "rf_he_accuracy = accuracy_score(y_test, y_pred_he)\n",
    "print(f\"\\nRandom Forest Classifier (HE) Accuracy: {rf_he_accuracy * 100:.2f}%\")\n",
    "print(f\"Encrypted Inference Time: {rf_he_inference_time:.6f} seconds\")\n",
    "print(f\"Classification Report:\\n{classification_report(y_test, y_pred_he)}\")\n"
   ],
   "id": "be8637dd877ee6fe",
   "outputs": [
    {
     "name": "stdout",
     "output_type": "stream",
     "text": [
      "Compiling Random Forest model for FHE...\n",
      "\n",
      "Random Forest Classifier (HE) Accuracy: 96.49%\n",
      "Encrypted Inference Time: 0.001976 seconds\n",
      "Classification Report:\n",
      "              precision    recall  f1-score   support\n",
      "\n",
      "           0       0.98      0.93      0.95        43\n",
      "           1       0.96      0.99      0.97        71\n",
      "\n",
      "    accuracy                           0.96       114\n",
      "   macro avg       0.97      0.96      0.96       114\n",
      "weighted avg       0.97      0.96      0.96       114\n",
      "\n"
     ]
    }
   ],
   "execution_count": 48
  },
  {
   "metadata": {},
   "cell_type": "markdown",
   "source": "#### Results",
   "id": "4d41c4f9549f5f47"
  },
  {
   "metadata": {
    "ExecuteTime": {
     "end_time": "2024-10-06T13:01:22.582322Z",
     "start_time": "2024-10-06T13:01:22.549182Z"
    }
   },
   "cell_type": "code",
   "source": [
    "# Create a DataFrame to store the results\n",
    "results_df = pd.DataFrame({\n",
    "    'Model': ['Logistic Regression', 'Decision Tree', 'Random Forest'],\n",
    "    'Plaintext Accuracy (%)': [\n",
    "        lr_plaintext_accuracy * 100,\n",
    "        dt_plaintext_accuracy * 100,\n",
    "        rf_plaintext_accuracy * 100\n",
    "    ],\n",
    "    'Encrypted Accuracy (%)': [\n",
    "        lr_he_accuracy * 100,\n",
    "        dt_he_accuracy * 100,\n",
    "        rf_he_accuracy * 100\n",
    "    ],\n",
    "    'Plaintext Inference Time (s)': [\n",
    "        lr_plaintext_time,\n",
    "        dt_plaintext_time,\n",
    "        rf_plaintext_time\n",
    "    ],\n",
    "    'Encrypted Inference Time (s)': [\n",
    "        lr_he_inference_time,\n",
    "        dt_he_inference_time,\n",
    "        rf_he_inference_time\n",
    "    ],\n",
    "    'Plaintext Training Time (s)': [\n",
    "        lr_plaintext_training_time,\n",
    "        dt_plaintext_training_time,\n",
    "        rf_plaintext_training_time\n",
    "    ],\n",
    "    'Encrypted Training Time (s)': [\n",
    "        lr_he_training_time,\n",
    "        dt_he_training_time,\n",
    "        rf_he_training_time\n",
    "    ]\n",
    "})\n",
    "\n",
    "# Calculate the increase percentage for inference time\n",
    "results_df['Inference Time Increase (%)'] = (\n",
    "    (results_df['Encrypted Inference Time (s)'] - results_df['Plaintext Inference Time (s)'])\n",
    "    / results_df['Plaintext Inference Time (s)']\n",
    ") * 100\n",
    "\n",
    "# Handle division by zero or very small plaintext times\n",
    "results_df['Inference Time Increase (%)'] = results_df['Inference Time Increase (%)'].replace([np.inf, -np.inf], np.nan)\n",
    "results_df['Inference Time Increase (%)'] = results_df['Inference Time Increase (%)'].fillna(0).round(2)\n",
    "\n",
    "# Calculate the increase percentage for Training time\n",
    "results_df['Training Time Increase (%)'] = (\n",
    "    (results_df['Encrypted Training Time (s)'] - results_df['Plaintext Training Time (s)'])\n",
    "    / results_df['Plaintext Training Time (s)']\n",
    ") * 100\n",
    "\n",
    "# Handle division by zero or very small plaintext times\n",
    "results_df['Training Time Increase (%)'] = results_df['Training Time Increase (%)'].replace([np.inf, -np.inf], np.nan)\n",
    "results_df['Training Time Increase (%)'] = results_df['Training Time Increase (%)'].fillna(0).round(2)\n",
    "\n",
    "\n",
    "# Display the accuracy table\n",
    "print(\"\\nModel Accuracy Comparison:\")\n",
    "display(results_df[['Model', 'Plaintext Accuracy (%)', 'Encrypted Accuracy (%)']])\n",
    "\n",
    "# Display the inference time table\n",
    "print(\"\\nInference Time Comparison with Increase Percentage:\")\n",
    "display(results_df[['Model', 'Plaintext Inference Time (s)', 'Encrypted Inference Time (s)', 'Inference Time Increase (%)']])\n",
    "\n",
    "# Display the training time table\n",
    "print(\"\\nTraining Time Comparison:\")\n",
    "display(results_df[['Model', 'Plaintext Training Time (s)', 'Encrypted Training Time (s)', 'Training Time Increase (%)']])\n"
   ],
   "id": "ec8a804e58ee6f31",
   "outputs": [
    {
     "name": "stdout",
     "output_type": "stream",
     "text": [
      "\n",
      "Model Accuracy Comparison:\n"
     ]
    },
    {
     "data": {
      "text/plain": [
       "                 Model  Plaintext Accuracy (%)  Encrypted Accuracy (%)\n",
       "0  Logistic Regression               97.368421               97.368421\n",
       "1        Decision Tree               94.736842               96.491228\n",
       "2        Random Forest               95.614035               96.491228"
      ],
      "text/html": [
       "<div>\n",
       "<style scoped>\n",
       "    .dataframe tbody tr th:only-of-type {\n",
       "        vertical-align: middle;\n",
       "    }\n",
       "\n",
       "    .dataframe tbody tr th {\n",
       "        vertical-align: top;\n",
       "    }\n",
       "\n",
       "    .dataframe thead th {\n",
       "        text-align: right;\n",
       "    }\n",
       "</style>\n",
       "<table border=\"1\" class=\"dataframe\">\n",
       "  <thead>\n",
       "    <tr style=\"text-align: right;\">\n",
       "      <th></th>\n",
       "      <th>Model</th>\n",
       "      <th>Plaintext Accuracy (%)</th>\n",
       "      <th>Encrypted Accuracy (%)</th>\n",
       "    </tr>\n",
       "  </thead>\n",
       "  <tbody>\n",
       "    <tr>\n",
       "      <th>0</th>\n",
       "      <td>Logistic Regression</td>\n",
       "      <td>97.368421</td>\n",
       "      <td>97.368421</td>\n",
       "    </tr>\n",
       "    <tr>\n",
       "      <th>1</th>\n",
       "      <td>Decision Tree</td>\n",
       "      <td>94.736842</td>\n",
       "      <td>96.491228</td>\n",
       "    </tr>\n",
       "    <tr>\n",
       "      <th>2</th>\n",
       "      <td>Random Forest</td>\n",
       "      <td>95.614035</td>\n",
       "      <td>96.491228</td>\n",
       "    </tr>\n",
       "  </tbody>\n",
       "</table>\n",
       "</div>"
      ]
     },
     "metadata": {},
     "output_type": "display_data"
    },
    {
     "name": "stdout",
     "output_type": "stream",
     "text": [
      "\n",
      "Inference Time Comparison with Increase Percentage:\n"
     ]
    },
    {
     "data": {
      "text/plain": [
       "                 Model  Plaintext Inference Time (s)  \\\n",
       "0  Logistic Regression                      0.000270   \n",
       "1        Decision Tree                      0.000429   \n",
       "2        Random Forest                      0.000815   \n",
       "\n",
       "   Encrypted Inference Time (s)  Inference Time Increase (%)  \n",
       "0                      0.000373                        37.95  \n",
       "1                      0.000893                       107.88  \n",
       "2                      0.001976                       142.52  "
      ],
      "text/html": [
       "<div>\n",
       "<style scoped>\n",
       "    .dataframe tbody tr th:only-of-type {\n",
       "        vertical-align: middle;\n",
       "    }\n",
       "\n",
       "    .dataframe tbody tr th {\n",
       "        vertical-align: top;\n",
       "    }\n",
       "\n",
       "    .dataframe thead th {\n",
       "        text-align: right;\n",
       "    }\n",
       "</style>\n",
       "<table border=\"1\" class=\"dataframe\">\n",
       "  <thead>\n",
       "    <tr style=\"text-align: right;\">\n",
       "      <th></th>\n",
       "      <th>Model</th>\n",
       "      <th>Plaintext Inference Time (s)</th>\n",
       "      <th>Encrypted Inference Time (s)</th>\n",
       "      <th>Inference Time Increase (%)</th>\n",
       "    </tr>\n",
       "  </thead>\n",
       "  <tbody>\n",
       "    <tr>\n",
       "      <th>0</th>\n",
       "      <td>Logistic Regression</td>\n",
       "      <td>0.000270</td>\n",
       "      <td>0.000373</td>\n",
       "      <td>37.95</td>\n",
       "    </tr>\n",
       "    <tr>\n",
       "      <th>1</th>\n",
       "      <td>Decision Tree</td>\n",
       "      <td>0.000429</td>\n",
       "      <td>0.000893</td>\n",
       "      <td>107.88</td>\n",
       "    </tr>\n",
       "    <tr>\n",
       "      <th>2</th>\n",
       "      <td>Random Forest</td>\n",
       "      <td>0.000815</td>\n",
       "      <td>0.001976</td>\n",
       "      <td>142.52</td>\n",
       "    </tr>\n",
       "  </tbody>\n",
       "</table>\n",
       "</div>"
      ]
     },
     "metadata": {},
     "output_type": "display_data"
    },
    {
     "name": "stdout",
     "output_type": "stream",
     "text": [
      "\n",
      "Training Time Comparison:\n"
     ]
    },
    {
     "data": {
      "text/plain": [
       "                 Model  Plaintext Training Time (s)  \\\n",
       "0  Logistic Regression                     0.011613   \n",
       "1        Decision Tree                     0.007887   \n",
       "2        Random Forest                     0.017413   \n",
       "\n",
       "   Encrypted Training Time (s)  Training Time Increase (%)  \n",
       "0                     0.085120                      632.95  \n",
       "1                     2.934052                    37100.53  \n",
       "2                     0.186110                      968.82  "
      ],
      "text/html": [
       "<div>\n",
       "<style scoped>\n",
       "    .dataframe tbody tr th:only-of-type {\n",
       "        vertical-align: middle;\n",
       "    }\n",
       "\n",
       "    .dataframe tbody tr th {\n",
       "        vertical-align: top;\n",
       "    }\n",
       "\n",
       "    .dataframe thead th {\n",
       "        text-align: right;\n",
       "    }\n",
       "</style>\n",
       "<table border=\"1\" class=\"dataframe\">\n",
       "  <thead>\n",
       "    <tr style=\"text-align: right;\">\n",
       "      <th></th>\n",
       "      <th>Model</th>\n",
       "      <th>Plaintext Training Time (s)</th>\n",
       "      <th>Encrypted Training Time (s)</th>\n",
       "      <th>Training Time Increase (%)</th>\n",
       "    </tr>\n",
       "  </thead>\n",
       "  <tbody>\n",
       "    <tr>\n",
       "      <th>0</th>\n",
       "      <td>Logistic Regression</td>\n",
       "      <td>0.011613</td>\n",
       "      <td>0.085120</td>\n",
       "      <td>632.95</td>\n",
       "    </tr>\n",
       "    <tr>\n",
       "      <th>1</th>\n",
       "      <td>Decision Tree</td>\n",
       "      <td>0.007887</td>\n",
       "      <td>2.934052</td>\n",
       "      <td>37100.53</td>\n",
       "    </tr>\n",
       "    <tr>\n",
       "      <th>2</th>\n",
       "      <td>Random Forest</td>\n",
       "      <td>0.017413</td>\n",
       "      <td>0.186110</td>\n",
       "      <td>968.82</td>\n",
       "    </tr>\n",
       "  </tbody>\n",
       "</table>\n",
       "</div>"
      ]
     },
     "metadata": {},
     "output_type": "display_data"
    }
   ],
   "execution_count": 53
  },
  {
   "metadata": {},
   "cell_type": "markdown",
   "source": [
    "## TODO\n",
    "- [X] Demonstrate the use of homomorphic encryption with Neural Networks. {Not doing this, the machine has no GPU support}\n",
    "- [ ] Demonstrate the security and privacy benefits of homomorphic encryption with client side decryption and server side encryption.\n",
    "- [ ] Web application for encrypted inference with homomorphic encryption."
   ],
   "id": "2388c84edd23b399"
  },
  {
   "metadata": {},
   "cell_type": "code",
   "outputs": [],
   "execution_count": null,
   "source": "",
   "id": "a69c5709b4c106ca"
  }
 ],
 "metadata": {
  "kernelspec": {
   "display_name": "Python 3",
   "language": "python",
   "name": "python3"
  },
  "language_info": {
   "codemirror_mode": {
    "name": "ipython",
    "version": 2
   },
   "file_extension": ".py",
   "mimetype": "text/x-python",
   "name": "python",
   "nbconvert_exporter": "python",
   "pygments_lexer": "ipython2",
   "version": "2.7.6"
  }
 },
 "nbformat": 4,
 "nbformat_minor": 5
}
