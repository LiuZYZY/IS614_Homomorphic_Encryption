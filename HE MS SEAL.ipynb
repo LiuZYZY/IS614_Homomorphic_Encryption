{
 "cells": [
  {
   "metadata": {},
   "cell_type": "markdown",
   "source": [
    "### Configure Microsoft Seal\n",
    "\n",
    "On Windows Machine:\n",
    "\n",
    "\n",
    "- Install C++ development environment with Build Tools for Visual Studio 2022\n",
    "- Install CMake \n",
    "- installation with vcpgk\n",
    "```powershell\n",
    "git clone https://github.com/Microsoft/vcpkg.git\n",
    "cd vcpkg\n",
    ".\\bootstrap-vcpkg.bat\n",
    "./vcpkg integrate install\n",
    "./vcpkg install seal\n",
    "```\n",
    "- Install SEAL-Python\n",
    "```powershell\n",
    "\n"
   ],
   "id": "392e7f415dd2ad19"
  },
  {
   "metadata": {},
   "cell_type": "markdown",
   "source": [
    "### Configure Microsoft Seal\n",
    "- https://github.com/microsoft/SEAL\n",
    "- https://github.com/Huelse/SEAL-Python\n",
    "\n",
    "\n",
    "On Windows Machine:\n",
    "\n",
    "\n",
    "- Install C++ development environment with Build Tools for Visual Studio 2022\n",
    "- Install CMake \n",
    "- installation with cmake\n",
    "```powershell\n",
    "cd SEAL\n",
    "mkdir build && cd build\n",
    "cmake .. -DCMAKE_INSTALL_PREFIX=../../seal_install -DCMAKE_BUILD_TYPE=Release\n",
    "cmake --build . --target install\n",
    "```\n",
    "\n"
   ],
   "id": "d07324a6f844b51a"
  },
  {
   "metadata": {
    "ExecuteTime": {
     "end_time": "2024-10-06T09:30:21.057571Z",
     "start_time": "2024-10-06T09:30:20.998219Z"
    }
   },
   "cell_type": "code",
   "source": "import seal",
   "id": "1892a48b629c0f8c",
   "outputs": [
    {
     "ename": "ModuleNotFoundError",
     "evalue": "No module named 'seal'",
     "output_type": "error",
     "traceback": [
      "\u001B[1;31m---------------------------------------------------------------------------\u001B[0m",
      "\u001B[1;31mModuleNotFoundError\u001B[0m                       Traceback (most recent call last)",
      "Input \u001B[1;32mIn [2]\u001B[0m, in \u001B[0;36m<cell line: 1>\u001B[1;34m()\u001B[0m\n\u001B[1;32m----> 1\u001B[0m \u001B[38;5;28;01mimport\u001B[39;00m \u001B[38;5;21;01mseal\u001B[39;00m\n",
      "\u001B[1;31mModuleNotFoundError\u001B[0m: No module named 'seal'"
     ]
    }
   ],
   "execution_count": 2
  },
  {
   "metadata": {},
   "cell_type": "code",
   "outputs": [],
   "execution_count": null,
   "source": "",
   "id": "b2d58c307fadad6b"
  }
 ],
 "metadata": {
  "kernelspec": {
   "display_name": "Python 3",
   "language": "python",
   "name": "python3"
  },
  "language_info": {
   "codemirror_mode": {
    "name": "ipython",
    "version": 2
   },
   "file_extension": ".py",
   "mimetype": "text/x-python",
   "name": "python",
   "nbconvert_exporter": "python",
   "pygments_lexer": "ipython2",
   "version": "2.7.6"
  }
 },
 "nbformat": 4,
 "nbformat_minor": 5
}
