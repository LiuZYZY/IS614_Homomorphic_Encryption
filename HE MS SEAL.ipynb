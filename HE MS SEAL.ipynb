{
 "cells": [
  {
   "cell_type": "markdown",
   "id": "392e7f415dd2ad19",
   "metadata": {},
   "source": [
    "### Configure Microsoft Seal\n",
    "\n",
    "On Windows Machine:\n",
    "\n",
    "\n",
    "- Install C++ development environment with Build Tools for Visual Studio 2022\n",
    "- Install CMake \n",
    "- installation with vcpgk\n",
    "```powershell\n",
    "git clone https://github.com/Microsoft/vcpkg.git\n",
    "cd vcpkg\n",
    ".\\bootstrap-vcpkg.bat\n",
    "./vcpkg integrate install\n",
    "./vcpkg install seal\n",
    "```\n",
    "- Install SEAL-Python\n",
    "```powershell\n",
    "\n"
   ]
  },
  {
   "cell_type": "markdown",
   "id": "d07324a6f844b51a",
   "metadata": {},
   "source": [
    "### Configure Microsoft Seal\n",
    "- https://github.com/microsoft/SEAL\n",
    "- https://github.com/Huelse/SEAL-Python\n",
    "\n",
    "\n",
    "On Windows Machine:\n",
    "\n",
    "\n",
    "- Install C++ development environment with Build Tools for Visual Studio 2022\n",
    "- Install CMake \n",
    "- installation with cmake\n",
    "```powershell\n",
    "cd SEAL\n",
    "mkdir build && cd build\n",
    "cmake .. -DCMAKE_INSTALL_PREFIX=../../seal_install -DCMAKE_BUILD_TYPE=Release\n",
    "cmake --build . --target install\n",
    "```\n",
    "\n"
   ]
  },
  {
   "cell_type": "code",
   "execution_count": 1,
   "id": "1892a48b629c0f8c",
   "metadata": {
    "ExecuteTime": {
     "end_time": "2024-10-06T09:30:21.057571Z",
     "start_time": "2024-10-06T09:30:20.998219Z"
    }
   },
   "outputs": [
    {
     "ename": "ModuleNotFoundError",
     "evalue": "No module named 'seal'",
     "output_type": "error",
     "traceback": [
      "\u001b[1;31m---------------------------------------------------------------------------\u001b[0m",
      "\u001b[1;31mModuleNotFoundError\u001b[0m                       Traceback (most recent call last)",
      "Input \u001b[1;32mIn [1]\u001b[0m, in \u001b[0;36m<cell line: 1>\u001b[1;34m()\u001b[0m\n\u001b[1;32m----> 1\u001b[0m \u001b[38;5;28;01mimport\u001b[39;00m \u001b[38;5;21;01mseal\u001b[39;00m\n",
      "\u001b[1;31mModuleNotFoundError\u001b[0m: No module named 'seal'"
     ]
    }
   ],
   "source": [
    "import seal"
   ]
  },
  {
   "cell_type": "code",
   "execution_count": null,
   "id": "b2d58c307fadad6b",
   "metadata": {},
   "outputs": [],
   "source": []
  }
 ],
 "metadata": {
  "kernelspec": {
   "display_name": "base",
   "language": "python",
   "name": "python3"
  },
  "language_info": {
   "codemirror_mode": {
    "name": "ipython",
    "version": 3
   },
   "file_extension": ".py",
   "mimetype": "text/x-python",
   "name": "python",
   "nbconvert_exporter": "python",
   "pygments_lexer": "ipython3",
   "version": "3.9.16"
  }
 },
 "nbformat": 4,
 "nbformat_minor": 5
}
